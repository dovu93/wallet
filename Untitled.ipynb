{
 "cells": [
  {
   "cell_type": "code",
   "execution_count": 1,
   "metadata": {},
   "outputs": [],
   "source": [
    "run constants.py"
   ]
  },
  {
   "cell_type": "code",
   "execution_count": 2,
   "metadata": {},
   "outputs": [],
   "source": [
    "import os"
   ]
  },
  {
   "cell_type": "code",
   "execution_count": 3,
   "metadata": {},
   "outputs": [],
   "source": [
    "mnemonic = os.getenv('MNEMONIC', 'together issue pattern raise trigger own awake genius punch develop width silver')\n"
   ]
  },
  {
   "cell_type": "code",
   "execution_count": 4,
   "metadata": {},
   "outputs": [
    {
     "data": {
      "text/plain": [
       "True"
      ]
     },
     "execution_count": 4,
     "metadata": {},
     "output_type": "execute_result"
    }
   ],
   "source": [
    "import subprocess\n",
    "import json\n",
    "import os\n",
    "from constants import *\n",
    "from dotenv import load_dotenv\n",
    "# from bipwallet import wallet\n",
    "from web3 import Web3\n",
    "from eth_account import Account\n",
    "from bit import PrivateKeyTestnet\n",
    "from bit.network import NetworkAPI\n",
    "from web3.middleware import geth_poa_middleware\n",
    "from web3.gas_strategies.time_based import medium_gas_price_strategy\n",
    "\n",
    "load_dotenv()"
   ]
  },
  {
   "cell_type": "code",
   "execution_count": 5,
   "metadata": {},
   "outputs": [],
   "source": [
    "# connect to local ETH/ geth\n",
    "w3 = Web3(Web3.HTTPProvider('http://127.0.0.1:8545'))\n",
    "# w3.middleware_onion.inject(geth_poa_middleware, layer=0)\n",
    "# w3.eth.setGasPriceStrategy(medium_gas_price_strategy)"
   ]
  },
  {
   "cell_type": "code",
   "execution_count": 6,
   "metadata": {},
   "outputs": [],
   "source": [
    "# Define function to derive wallet\n",
    "def derive_wallets(mnemonic, coin, numderive):\n",
    "    command = f'php derive -g --mnemonic=\"{mnemonic}\" --cols=path,address,privkey,pubkey --numderive=\"{numderive}\" --coin=\"{coin}\" --format=json'    \n",
    "    p = subprocess.Popen(command, stdout=subprocess.PIPE, shell=True)\n",
    "    (output, err) = p.communicate()\n",
    "   \n",
    "    keys = json.loads(output)\n",
    "    return  keys"
   ]
  },
  {
   "cell_type": "code",
   "execution_count": 7,
   "metadata": {},
   "outputs": [],
   "source": [
    "coins = [ETH, BTC, BTCTEST]"
   ]
  },
  {
   "cell_type": "code",
   "execution_count": 8,
   "metadata": {},
   "outputs": [
    {
     "data": {
      "text/plain": [
       "[{'path': \"m/44'/60'/0'/0/0\",\n",
       "  'address': '0xF06262bd7Afe33cc06FBbd4f399FC484b66a750B',\n",
       "  'privkey': '0xfd2196e1f91ab18f10fdfb441b4d2775945b5cd7cc65880fc876808678eeb58a',\n",
       "  'pubkey': '032019552db46c2fb809755b093e4fd0e615e41704cb30964f9c65080278de41eb'},\n",
       " {'path': \"m/44'/60'/0'/0/1\",\n",
       "  'address': '0x79AE65C9527e93c1b6D71dc4eFD7383E7Bb5A431',\n",
       "  'privkey': '0xb2c609ba6249f319e4dfaa537a3b2903d7d629bddb786ee9782bc9605feed2ef',\n",
       "  'pubkey': '03a2a9bf6d0ab816cd44b408a1f5d34e6178d6d4fcac255eff9cf9e0497b482980'},\n",
       " {'path': \"m/44'/60'/0'/0/2\",\n",
       "  'address': '0x694Fb82d78cE6eE12A230D297FaBE7D5f545d4d5',\n",
       "  'privkey': '0x8f9ede57001d34feb93986675f4f38d63a768582376627ba7485872c516e2981',\n",
       "  'pubkey': '03f76a4d6e057d7fa2c88bef38f7a7368f608a163fb1a720381a84530305a96cd2'}]"
      ]
     },
     "execution_count": 8,
     "metadata": {},
     "output_type": "execute_result"
    }
   ],
   "source": [
    "derive_wallets(mnemonic, ETH, 3)\n"
   ]
  },
  {
   "cell_type": "code",
   "execution_count": 9,
   "metadata": {},
   "outputs": [],
   "source": [
    "keys = {}\n",
    "for coin in coins:\n",
    "    keys[coin]= derive_wallets(mnemonic, coin, numderive=3)"
   ]
  },
  {
   "cell_type": "code",
   "execution_count": 10,
   "metadata": {},
   "outputs": [
    {
     "name": "stdout",
     "output_type": "stream",
     "text": [
      "{\n",
      "    \"btc\": [\n",
      "        {\n",
      "            \"address\": \"1AtC6qzWefh2sAA7CM7bnnY6qt6AK4Pno3\",\n",
      "            \"path\": \"m/44'/0'/0'/0/0\",\n",
      "            \"privkey\": \"KxQVmen4zpGGWV9meK7tLEZGrZQuqrx8FemS3CmnQpKcLePtx9YN\",\n",
      "            \"pubkey\": \"025d61375e86bb519af75afe13464639567738957c5507614e10f8f502e8df5316\"\n",
      "        },\n",
      "        {\n",
      "            \"address\": \"1BsWDY1HmqWZcRq7YNgRFWFQYPx7KNY9yi\",\n",
      "            \"path\": \"m/44'/0'/0'/0/1\",\n",
      "            \"privkey\": \"L1HZ3Vb4vbigVqEmnSZ4JaYAatdNCcMpfaNeJGiHhP4MkGPsHMB6\",\n",
      "            \"pubkey\": \"020c85c42843f107a0c3a502d319327c079124f8b85b626a133350e6e496b48a2a\"\n",
      "        },\n",
      "        {\n",
      "            \"address\": \"1641HTJ2nEhnQNC33z3PGtjNrWBrbfzvS6\",\n",
      "            \"path\": \"m/44'/0'/0'/0/2\",\n",
      "            \"privkey\": \"L1mKAa6RZX4fHBeVDgojftwCD8eMM5HGYMhCxYQSiPSnQpc82vHK\",\n",
      "            \"pubkey\": \"039832adc1fdec6313c1d990d6c840adcd130d5890b101022d65ac2c7d61ebe8d8\"\n",
      "        }\n",
      "    ],\n",
      "    \"btc-test\": [\n",
      "        {\n",
      "            \"address\": \"n1t2dhmCrMJPwB6oXgcC4pHoDRj5yDtVbE\",\n",
      "            \"path\": \"m/44'/1'/0'/0/0\",\n",
      "            \"privkey\": \"cN9z7sBFDgtjA4bjB79r6PJ1SugAxpsVR6gKxV4aRYfVpv5igJrp\",\n",
      "            \"pubkey\": \"02ce80e212b15f070f23a133870fb5b1e4b7327386ad207b46082f68e06433939d\"\n",
      "        },\n",
      "        {\n",
      "            \"address\": \"mr7QmtbD8fMbqeqzSipysFTQfoN1a1b5nC\",\n",
      "            \"path\": \"m/44'/1'/0'/0/1\",\n",
      "            \"privkey\": \"cUZyxkCq4BWEH89oRzEf5EfqbNs5v1yrin6Vovwy4Ms4H4JADund\",\n",
      "            \"pubkey\": \"03c19f6f74bb3a83b4a82f271ff2ba43f52faabd5823df777b1472a0beceda0d22\"\n",
      "        },\n",
      "        {\n",
      "            \"address\": \"myxMhEooYhhhF49Km2YAsqpq1xcTyPGKeW\",\n",
      "            \"path\": \"m/44'/1'/0'/0/2\",\n",
      "            \"privkey\": \"cQ6yfVdndWN6xAvdK8A5koyeziLzZGM3XVeBW1yrAKnHfLqwYzbN\",\n",
      "            \"pubkey\": \"03b09355eaff1ac87154f126a640cc4baed4cfd1eeb2dba8c92c7c114e6550064d\"\n",
      "        }\n",
      "    ],\n",
      "    \"eth\": [\n",
      "        {\n",
      "            \"address\": \"0xF06262bd7Afe33cc06FBbd4f399FC484b66a750B\",\n",
      "            \"path\": \"m/44'/60'/0'/0/0\",\n",
      "            \"privkey\": \"0xfd2196e1f91ab18f10fdfb441b4d2775945b5cd7cc65880fc876808678eeb58a\",\n",
      "            \"pubkey\": \"032019552db46c2fb809755b093e4fd0e615e41704cb30964f9c65080278de41eb\"\n",
      "        },\n",
      "        {\n",
      "            \"address\": \"0x79AE65C9527e93c1b6D71dc4eFD7383E7Bb5A431\",\n",
      "            \"path\": \"m/44'/60'/0'/0/1\",\n",
      "            \"privkey\": \"0xb2c609ba6249f319e4dfaa537a3b2903d7d629bddb786ee9782bc9605feed2ef\",\n",
      "            \"pubkey\": \"03a2a9bf6d0ab816cd44b408a1f5d34e6178d6d4fcac255eff9cf9e0497b482980\"\n",
      "        },\n",
      "        {\n",
      "            \"address\": \"0x694Fb82d78cE6eE12A230D297FaBE7D5f545d4d5\",\n",
      "            \"path\": \"m/44'/60'/0'/0/2\",\n",
      "            \"privkey\": \"0x8f9ede57001d34feb93986675f4f38d63a768582376627ba7485872c516e2981\",\n",
      "            \"pubkey\": \"03f76a4d6e057d7fa2c88bef38f7a7368f608a163fb1a720381a84530305a96cd2\"\n",
      "        }\n",
      "    ]\n",
      "}\n"
     ]
    }
   ],
   "source": [
    "print(json.dumps(keys, indent=4, sort_keys=True))"
   ]
  },
  {
   "cell_type": "code",
   "execution_count": null,
   "metadata": {},
   "outputs": [],
   "source": []
  },
  {
   "cell_type": "code",
   "execution_count": null,
   "metadata": {},
   "outputs": [],
   "source": []
  },
  {
   "cell_type": "code",
   "execution_count": null,
   "metadata": {},
   "outputs": [],
   "source": []
  },
  {
   "cell_type": "code",
   "execution_count": 11,
   "metadata": {},
   "outputs": [],
   "source": [
    "def priv_key_to_account(coin,priv_key):\n",
    "    print(coin)\n",
    "    print(priv_key)\n",
    "    if coin == ETH:\n",
    "        return Account.privateKeyToAccount(priv_key)\n",
    "    elif coin == BTCTEST:\n",
    "        return PrivateKeyTestnet(priv_key)\n",
    "    else:\n",
    "        print(\"Coin is not in database!\")\n",
    "    \n",
    "    \n",
    "def create_tx(coin,account, recipient, amount):\n",
    "    if coin == ETH: \n",
    "        gasEstimate = w3.eth.estimateGas(\n",
    "            {\"from\":eth_acc.address, \"to\":recipient, \"value\": amount}\n",
    "        )\n",
    "        return { \n",
    "            \"from\": eth_acc.address,\n",
    "            \"to\": recipient,\n",
    "            \"value\": amount,\n",
    "            \"gasPrice\": w3.eth.gasPrice,\n",
    "            \"gas\": gasEstimate,\n",
    "            \"nonce\": w3.eth.getTransactionCount(eth_acc.address)\n",
    "        }\n",
    "    elif coin == BTCTEST:\n",
    "        return PrivateKeyTestnet.prepare_transaction(account.address, [(recipient, amount, BTC)])\n",
    "    else:\n",
    "        print(\"Coin is not in database!\")\n",
    "    \n",
    "    \n",
    "    \n",
    "def send_txn(coin,account,recipient, amount):\n",
    "    txn = create_tx(coin, account, recipient, amount)\n",
    "    if coin == ETH:\n",
    "        signed_txn = eth_acc.sign_transaction(txn)\n",
    "        result = w3.eth.sendRawTransaction(signed_txn.rawTransaction)\n",
    "        print(result.hex())\n",
    "        return result.hex()\n",
    "    elif coin == BTCTEST:\n",
    "        tx_btctest = create_tx(coin, account, recipient, amount)\n",
    "        signed_txn = account.sign_transaction(txn)\n",
    "        print(signed_txn)\n",
    "        return NetworkAPI.broadcast_tx_testnet(signed_txn)\n",
    "    else:\n",
    "        print(\"Coin is not in database!\")"
   ]
  },
  {
   "cell_type": "code",
   "execution_count": 12,
   "metadata": {},
   "outputs": [],
   "source": [
    "eth_PrivateKey = keys[\"eth\"][0]['privkey']\n",
    "btc_PrivateKey = keys['btc-test'][0]['privkey']"
   ]
  },
  {
   "cell_type": "code",
   "execution_count": 13,
   "metadata": {},
   "outputs": [
    {
     "data": {
      "text/plain": [
       "'0xfd2196e1f91ab18f10fdfb441b4d2775945b5cd7cc65880fc876808678eeb58a'"
      ]
     },
     "execution_count": 13,
     "metadata": {},
     "output_type": "execute_result"
    }
   ],
   "source": [
    "eth_PrivateKey"
   ]
  },
  {
   "cell_type": "code",
   "execution_count": 14,
   "metadata": {},
   "outputs": [
    {
     "name": "stdout",
     "output_type": "stream",
     "text": [
      "eth\n",
      "0xfd2196e1f91ab18f10fdfb441b4d2775945b5cd7cc65880fc876808678eeb58a\n"
     ]
    }
   ],
   "source": [
    "eth_acc = priv_key_to_account(ETH, derive_wallets(mnemonic, ETH, 5)[0]['privkey'])\n"
   ]
  },
  {
   "cell_type": "code",
   "execution_count": 117,
   "metadata": {},
   "outputs": [
    {
     "name": "stdout",
     "output_type": "stream",
     "text": [
      "btc-test\n",
      "cN9z7sBFDgtjA4bjB79r6PJ1SugAxpsVR6gKxV4aRYfVpv5igJrp\n"
     ]
    }
   ],
   "source": [
    "btc_acc = priv_key_to_account(BTCTEST, derive_wallets(mnemonic, BTCTEST,5)[0]['privkey'])\n"
   ]
  },
  {
   "cell_type": "code",
   "execution_count": 98,
   "metadata": {},
   "outputs": [
    {
     "name": "stdout",
     "output_type": "stream",
     "text": [
      "0100000001127ba35b6f239c43b5df2bef483f3d3d5b45e0f8584181900789c7c047055a84010000006b4830450221009a3e9d6c48dbf13d0dd9d79493945122801a48a3de92a1d99812ad222975a51e02204d2bb77677851a68f6bafe9d560e494373769705e44baa19022186e0313f7c8b012102dcb7a11c7172966e58679c0cb207bfb95d119cc55f9fb318d0a522aaff5b9577ffffffff0280969800000000001976a9148c5bf3cb05705fe9512d23b229c4253e82ba817988ac90dd1300000000001976a9143b8d4adb98c1922686a0b9b3f10ee0f1ef7a2eb888ac00000000\n"
     ]
    }
   ],
   "source": [
    "send_txn(BTCTEST,btc_acc,\"mtK73sNPY9CKuzVvpv4W1969AD1UmGGfsX\", 0.1)\n"
   ]
  },
  {
   "cell_type": "code",
   "execution_count": 15,
   "metadata": {},
   "outputs": [
    {
     "data": {
      "text/plain": [
       "True"
      ]
     },
     "execution_count": 15,
     "metadata": {},
     "output_type": "execute_result"
    }
   ],
   "source": [
    "w3.isConnected()"
   ]
  },
  {
   "cell_type": "code",
   "execution_count": 16,
   "metadata": {},
   "outputs": [
    {
     "data": {
      "text/plain": [
       "97969486779999999010"
      ]
     },
     "execution_count": 16,
     "metadata": {},
     "output_type": "execute_result"
    }
   ],
   "source": [
    "w3.eth.getBalance(\"0xF06262bd7Afe33cc06FBbd4f399FC484b66a750B\")\n"
   ]
  },
  {
   "cell_type": "code",
   "execution_count": 17,
   "metadata": {},
   "outputs": [
    {
     "data": {
      "text/plain": [
       "{'from': '0xF06262bd7Afe33cc06FBbd4f399FC484b66a750B',\n",
       " 'to': '0x79AE65C9527e93c1b6D71dc4eFD7383E7Bb5A431',\n",
       " 'value': 10000000000000000,\n",
       " 'gasPrice': 20000000000,\n",
       " 'gas': 21000,\n",
       " 'nonce': 12}"
      ]
     },
     "execution_count": 17,
     "metadata": {},
     "output_type": "execute_result"
    }
   ],
   "source": [
    "create_tx(ETH, eth_acc,\"0x79AE65C9527e93c1b6D71dc4eFD7383E7Bb5A431\", 10000000000000000)\n"
   ]
  },
  {
   "cell_type": "code",
   "execution_count": 18,
   "metadata": {},
   "outputs": [
    {
     "name": "stdout",
     "output_type": "stream",
     "text": [
      "0x7b350971843c359a58e366c599bee997ec115a9f2d0dc2374219722e496bf732\n"
     ]
    },
    {
     "data": {
      "text/plain": [
       "'0x7b350971843c359a58e366c599bee997ec115a9f2d0dc2374219722e496bf732'"
      ]
     },
     "execution_count": 18,
     "metadata": {},
     "output_type": "execute_result"
    }
   ],
   "source": [
    "send_txn(ETH, eth_acc,\"0x3dA0F09EF6F833b179768a63AdD29061e0702e47\", 1000)\n"
   ]
  },
  {
   "cell_type": "code",
   "execution_count": 21,
   "metadata": {},
   "outputs": [
    {
     "data": {
      "text/plain": [
       "97969066779999998010"
      ]
     },
     "execution_count": 21,
     "metadata": {},
     "output_type": "execute_result"
    }
   ],
   "source": [
    "w3.eth.getBalance(\"0xF06262bd7Afe33cc06FBbd4f399FC484b66a750B\")\n"
   ]
  },
  {
   "cell_type": "code",
   "execution_count": null,
   "metadata": {},
   "outputs": [],
   "source": []
  }
 ],
 "metadata": {
  "kernelspec": {
   "display_name": "Python 3",
   "language": "python",
   "name": "python3"
  },
  "language_info": {
   "codemirror_mode": {
    "name": "ipython",
    "version": 3
   },
   "file_extension": ".py",
   "mimetype": "text/x-python",
   "name": "python",
   "nbconvert_exporter": "python",
   "pygments_lexer": "ipython3",
   "version": "3.7.7"
  }
 },
 "nbformat": 4,
 "nbformat_minor": 4
}
